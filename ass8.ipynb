import numpy as np
from scipy.spatial.distance import cdist
from collections import Counter

class KNNClassifier:
    def __init__(self, k):
        self.k = k

    def fit(self, x_train, y_train):
        self.x_train = x_train
        self.y_train = y_train

    def predict(self, x_test):
        distance = cdist(x_test, self.x_train, metric='euclidean')
        k_indices = np.argpartition(distance, kth=self.k, axis=-1)[:, :self.k]
        k_nearest_labels = np.array([self.y_train[j] for j in k_indices])
        most_common = np.array([Counter(column).most_common(1)[0][0] for column in k_nearest_labels])
        return most_common

# Sample data
from sklearn import datasets
from sklearn.model_selection import train_test_split

iris = datasets.load_iris()
X = iris.data[:, :2] # Only take the first two features for visualization
Y = iris.target

X_train, X_test, Y_train, Y_test = train_test_split(X, Y, test_size=0.3, random_state=1234)

# Model
knn = KNNClassifier(k=3)
knn.fit(X_train, Y_train)
predictions = knn.predict(X_test)

# Result
accuracy = np.sum(predictions == Y_test) / len(Y_test)
print("Accuracy:", accuracy)
