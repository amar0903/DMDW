from random import shuffle
import math

# Define the dataset within the code
def getDataset():
    return [
        {'Height': 1.70, 'Weight': 65, 'Age': 20, 'Class': 'Programmer'},
        {'Height': 1.90, 'Weight': 85, 'Age': 33, 'Class': 'Builder'},
        {'Height': 1.78, 'Weight': 76, 'Age': 31, 'Class': 'Builder'},
        {'Height': 1.73, 'Weight': 74, 'Age': 24, 'Class': 'Programmer'},
        {'Height': 1.81, 'Weight': 75, 'Age': 35, 'Class': 'Builder'},
        {'Height': 1.73, 'Weight': 70, 'Age': 75, 'Class': 'Scientist'},
        {'Height': 1.80, 'Weight': 71, 'Age': 63, 'Class': 'Scientist'},
        {'Height': 1.75, 'Weight': 69, 'Age': 25, 'Class': 'Programmer'}
    ]

# Euclidean Distance
def euclideanDistance(x, y):
    S = 0
    for key in x.keys():
        S += math.pow(x[key] - y[key], 2)
    return math.sqrt(S)

# Calculate Neighbors Class
def calculateNeighborsClass(neighbors, k):
    count = {}
    for i in range(min(k, len(neighbors))):  # Consider the minimum of k and the actual length of neighbors
        if neighbors[i][1] not in count:
            count[neighbors[i][1]] = 1
        else:
            count[neighbors[i][1]] += 1
    return count

# Find Max in Dictionary
def findMax(Dict):
    maximum = -1
    classification = ''
    for key in Dict.keys():
        if Dict[key] > maximum:
            maximum = Dict[key]
            classification = key
    return (classification, maximum)

# Classify using KNN
def classify(nItem, k, Items):
    neighbors = []
    for item in Items:
        distance = euclideanDistance(nItem, item)
        neighbors = updateNeighbors(neighbors, item, distance, k)
    count = calculateNeighborsClass(neighbors, k)
    return findMax(count)

# Update Neighbors
def updateNeighbors(neighbors, item, distance, k):
    if len(neighbors) < k:
        neighbors.append([distance, item['Class']])
        neighbors = sorted(neighbors)
    else:
        if neighbors[-1][0] > distance:
            neighbors[-1] = [distance, item['Class']]
            neighbors = sorted(neighbors)
    return neighbors

# K-Fold Validation
def kFoldValidation(K, k, Items):
    if K > len(Items):
        return -1
    correct = 0
    total = len(Items) * (K - 1)
    l = int(len(Items) / K)
    for i in range(K):
        trainingSet = Items[i * l:(i + 1) * l]
        testSet = Items[:i * l] + Items[(i + 1) * l:]
        for item in testSet:
            itemClass = item['Class']
            itemFeatures = {}
            for key in item:
                if key != 'Class':
                    itemFeatures[key] = item[key]
            guess = classify(itemFeatures, k, trainingSet)[0]
            if guess == itemClass:
                correct += 1
    accuracy = correct / float(total)
    return accuracy

# Evaluation
def evaluate(K, k, items, iterations):
    accuracy = 0
    for i in range(iterations):
        shuffle(items)
        accuracy += kFoldValidation(K, k, items)
    print(accuracy / float(iterations))

# Main Function
def main():
    items = getDataset()
    evaluate(5, 5, items, 100)

if __name__ == '__main__':
    main()
